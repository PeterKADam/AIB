{
 "cells": [
  {
   "cell_type": "code",
   "execution_count": 1,
   "metadata": {},
   "outputs": [
    {
     "name": "stdout",
     "output_type": "stream",
     "text": [
      "   string number  score  relative score          folding time  \\\n",
      "0              1    2.0            -2.0   0.04781630006618798   \n",
      "1              2    2.0            -6.0   0.04819370002951473   \n",
      "2              3    5.0            -4.0    0.0476691999938339   \n",
      "3              4    5.0            -4.0  0.048191500012762845   \n",
      "4              5    3.0            -7.0   0.05409240000881255   \n",
      "5              6    4.0            -5.0  0.046081800013780594   \n",
      "6              7    4.0            -4.0   0.04434109991416335   \n",
      "7              8    8.0            -6.0  0.046410499955527484   \n",
      "8              9    8.0           -15.0  0.047237299964763224   \n",
      "9             10   12.0            -9.0   0.04535789997316897   \n",
      "10            11   20.0           -16.0  0.045567499939352274   \n",
      "11            12   20.0           -22.0  0.045764600043185055   \n",
      "12            13   25.0           -28.0  0.045134900021366775   \n",
      "13            14   24.0           -24.0   0.04521989997010678   \n",
      "14            15   22.0           -28.0   0.05001460004132241   \n",
      "15             :    NaN             NaN                   NaN   \n",
      "16           NaN    NaN             NaN                   NaN   \n",
      "17           NaN    NaN             NaN                   NaN   \n",
      "18           NaN    NaN             NaN                  sdad   \n",
      "\n",
      "                                        absolute fold  \\\n",
      "0                                   ennesseeeswwswnww   \n",
      "1                                   eeeeeeeeeeswwwwww   \n",
      "2                                   ennesseeeeswwwwww   \n",
      "3                                 eeeeeeeeeswwwwwwwww   \n",
      "4                                 eneseeeeeswwwwwwwww   \n",
      "5                                ennesseeeeeswwwwswnw   \n",
      "6                            eeeeennesseeeeswwwsswnnw   \n",
      "7                 eeenesennnessseeeswwswnwsswnnwwwwww   \n",
      "8     eeeeenesennnessseeeeeeeeeeswwwwwswnwswnwswnwwww   \n",
      "9   eeeeeeeeeeeeeeeeeeeeeeeeswwwwwwwwwwwwwwwwwwwwwwww   \n",
      "10  eeeneseeeeeeeneseeeeeeeeeeeeeswwwwwwwwwwwwsswn...   \n",
      "11  eeeeeeeeeeeeeeenesenesennesseeeswwsswnnwswnwsw...   \n",
      "12  eeennesseeeeeeeeeeennnessseeeeeeeeeeeneseeswww...   \n",
      "13  eeeeeeeeennesseeeeeeeeeeennesseneseneseeenesee...   \n",
      "14  eeeneseeeneseeeeeneseeeeennnnesssseeeeeneseeee...   \n",
      "15                                                NaN   \n",
      "16                                                NaN   \n",
      "17                                                NaN   \n",
      "18                                                NaN   \n",
      "\n",
      "                                        relative fold  \n",
      "0                                   flfrrflffrrflrrlf  \n",
      "1                                   ffffffffffrrfffff  \n",
      "2                                   flfrrflfffrrfffff  \n",
      "3                                 fffffffffrrffffffff  \n",
      "4                                 flrrlffffrrffffffff  \n",
      "5                                flfrrflffffrrffflrrl  \n",
      "6                            ffffflfrrflfffrrfflfrrfl  \n",
      "7                 ffflrrllffrrfflffrrflrrllfrrflfffff  \n",
      "8     ffffflrrllffrrfflfffffffffrrfffflrrllrrllrrlfff  \n",
      "9   ffffffffffffffffffffffffrrfffffffffffffffffffffff  \n",
      "10  ffflrrlfffffflrrlffffffffffffrrffffffffffflfrr...  \n",
      "11  ffffffffffffffflrrllrrllfrrflffrrflfrrfllrrllr...  \n",
      "12  ffflfrrflfffffffffflffrrfflfffffffffflrrlfrrff...  \n",
      "13  ffffffffflfrrflfffffffffflfrrfllrrllrrlfflrrlf...  \n",
      "14  ffflrrlfflrrlfffflrrlfffflfffrrffflfffflrrlfff...  \n",
      "15                                                NaN  \n",
      "16                                                NaN  \n",
      "17                                                NaN  \n",
      "18                                                NaN  \n"
     ]
    }
   ],
   "source": [
    "import pandas as pd\n",
    "\n",
    "# Read the TSV file\n",
    "df = pd.read_csv('runtimes.tsv', sep='\\t')\n",
    "\n",
    "# Display the DataFrame\n",
    "print(df)"
   ]
  }
 ],
 "metadata": {
  "kernelspec": {
   "display_name": "Python 3",
   "language": "python",
   "name": "python3"
  },
  "language_info": {
   "codemirror_mode": {
    "name": "ipython",
    "version": 3
   },
   "file_extension": ".py",
   "mimetype": "text/x-python",
   "name": "python",
   "nbconvert_exporter": "python",
   "pygments_lexer": "ipython3",
   "version": "3.10.6"
  }
 },
 "nbformat": 4,
 "nbformat_minor": 2
}
