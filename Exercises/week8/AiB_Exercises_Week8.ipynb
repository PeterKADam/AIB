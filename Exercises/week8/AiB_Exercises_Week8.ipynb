{
 "cells": [
  {
   "cell_type": "markdown",
   "metadata": {},
   "source": [
    "# AiB Exercises Week 8"
   ]
  },
  {
   "cell_type": "markdown",
   "metadata": {},
   "source": [
    "We can use the Phylo from Biopython to read a tree in Newick format. You can read about Phylo in https://biopython.org/wiki/Phylo. You can also take a look at chapter 13 in the Biopython tutorial at http://biopython.org/DIST/docs/tutorial/Tutorial.html."
   ]
  },
  {
   "cell_type": "code",
   "execution_count": 5,
   "metadata": {},
   "outputs": [],
   "source": [
    "from Bio import Phylo\n",
    "\n",
    "tree = Phylo.read(\"aib_week8_ex2_slide14.new\", \"newick\")"
   ]
  },
  {
   "cell_type": "markdown",
   "metadata": {},
   "source": [
    "It is easy to draw the tree."
   ]
  },
  {
   "cell_type": "code",
   "execution_count": 6,
   "metadata": {
    "scrolled": true
   },
   "outputs": [
    {
     "name": "stdout",
     "output_type": "stream",
     "text": [
      "                                    __________ Orang\n",
      "                        ___________|\n",
      "                       |           |           __________ Gorilla\n",
      "                       |           |__________|\n",
      "             __________|                      |           ___________ Chimp\n",
      "            |          |                      |__________|\n",
      "            |          |                                 |___________ Human\n",
      "  __________|          |\n",
      " |          |          |___________ Gibbon\n",
      "_|          |\n",
      " |          |__________ Macacque\n",
      " |\n",
      " |__________ Colobus\n",
      "\n"
     ]
    }
   ],
   "source": [
    "Phylo.draw_ascii(tree)"
   ]
  },
  {
   "cell_type": "markdown",
   "metadata": {},
   "source": [
    "We can sum the lenghts of all edges (called branches in Phylo terminology) by traversing the tree in depth-first manner and summing the length of edges that we meet. We start at the root node of the tree. In Phylo terminology a node is called a clade, so the root node of a tree is tree.clade. The children of a node (clade) is in clade.clades."
   ]
  },
  {
   "cell_type": "code",
   "execution_count": 7,
   "metadata": {},
   "outputs": [],
   "source": [
    "def sum_of_edges (tree):\n",
    "    \"\"\"\n",
    "    computes the sum of the edge lengths in the tree by making a df traversal\n",
    "    \"\"\"\n",
    "    return df_sum(tree.clade)\n",
    "        \n",
    "def df_sum (clade):\n",
    "    \"\"\"\n",
    "    performs a df traversal of a Phylo tree from 'node' and returns the sum of \n",
    "    the edge lengths in its subtree.\n",
    "    \"\"\"\n",
    "    if clade.is_terminal():\n",
    "        return 0    \n",
    "    else:\n",
    "        s = 0\n",
    "        for child in clade.clades:\n",
    "            s = s + child.branch_length + df_sum(child)\n",
    "        return s"
   ]
  },
  {
   "cell_type": "code",
   "execution_count": 8,
   "metadata": {},
   "outputs": [
    {
     "ename": "TypeError",
     "evalue": "unsupported operand type(s) for +: 'int' and 'NoneType'",
     "output_type": "error",
     "traceback": [
      "\u001b[1;31m---------------------------------------------------------------------------\u001b[0m",
      "\u001b[1;31mTypeError\u001b[0m                                 Traceback (most recent call last)",
      "Cell \u001b[1;32mIn [8], line 1\u001b[0m\n\u001b[1;32m----> 1\u001b[0m \u001b[43msum_of_edges\u001b[49m\u001b[43m(\u001b[49m\u001b[43mtree\u001b[49m\u001b[43m)\u001b[49m\n",
      "Cell \u001b[1;32mIn [7], line 5\u001b[0m, in \u001b[0;36msum_of_edges\u001b[1;34m(tree)\u001b[0m\n\u001b[0;32m      1\u001b[0m \u001b[38;5;28;01mdef\u001b[39;00m \u001b[38;5;21msum_of_edges\u001b[39m (tree):\n\u001b[0;32m      2\u001b[0m     \u001b[38;5;124;03m\"\"\"\u001b[39;00m\n\u001b[0;32m      3\u001b[0m \u001b[38;5;124;03m    computes the sum of the edge lengths in the tree by making a df traversal\u001b[39;00m\n\u001b[0;32m      4\u001b[0m \u001b[38;5;124;03m    \"\"\"\u001b[39;00m\n\u001b[1;32m----> 5\u001b[0m     \u001b[38;5;28;01mreturn\u001b[39;00m \u001b[43mdf_sum\u001b[49m\u001b[43m(\u001b[49m\u001b[43mtree\u001b[49m\u001b[38;5;241;43m.\u001b[39;49m\u001b[43mclade\u001b[49m\u001b[43m)\u001b[49m\n",
      "Cell \u001b[1;32mIn [7], line 17\u001b[0m, in \u001b[0;36mdf_sum\u001b[1;34m(clade)\u001b[0m\n\u001b[0;32m     15\u001b[0m s \u001b[38;5;241m=\u001b[39m \u001b[38;5;241m0\u001b[39m\n\u001b[0;32m     16\u001b[0m \u001b[38;5;28;01mfor\u001b[39;00m child \u001b[38;5;129;01min\u001b[39;00m clade\u001b[38;5;241m.\u001b[39mclades:\n\u001b[1;32m---> 17\u001b[0m     s \u001b[38;5;241m=\u001b[39m \u001b[43ms\u001b[49m\u001b[43m \u001b[49m\u001b[38;5;241;43m+\u001b[39;49m\u001b[43m \u001b[49m\u001b[43mchild\u001b[49m\u001b[38;5;241;43m.\u001b[39;49m\u001b[43mbranch_length\u001b[49m \u001b[38;5;241m+\u001b[39m df_sum(child)\n\u001b[0;32m     18\u001b[0m \u001b[38;5;28;01mreturn\u001b[39;00m s\n",
      "\u001b[1;31mTypeError\u001b[0m: unsupported operand type(s) for +: 'int' and 'NoneType'"
     ]
    }
   ],
   "source": [
    "sum_of_edges(tree)"
   ]
  },
  {
   "cell_type": "markdown",
   "metadata": {},
   "source": [
    "Phylo actually has a built-in function for computing the length of all edge/branches of a tree."
   ]
  },
  {
   "cell_type": "code",
   "execution_count": 9,
   "metadata": {},
   "outputs": [
    {
     "data": {
      "text/plain": [
       "0"
      ]
     },
     "execution_count": 9,
     "metadata": {},
     "output_type": "execute_result"
    }
   ],
   "source": [
    "tree.total_branch_length()"
   ]
  },
  {
   "cell_type": "markdown",
   "metadata": {},
   "source": [
    "We can see that the our implementation agrees with the built-in function (except for some numerical peculiarities)."
   ]
  },
  {
   "cell_type": "code",
   "execution_count": null,
   "metadata": {},
   "outputs": [],
   "source": []
  }
 ],
 "metadata": {
  "kernelspec": {
   "display_name": "Python 3 (ipykernel)",
   "language": "python",
   "name": "python3"
  },
  "language_info": {
   "codemirror_mode": {
    "name": "ipython",
    "version": 3
   },
   "file_extension": ".py",
   "mimetype": "text/x-python",
   "name": "python",
   "nbconvert_exporter": "python",
   "pygments_lexer": "ipython3",
   "version": "3.10.6"
  }
 },
 "nbformat": 4,
 "nbformat_minor": 2
}
